{
 "cells": [
  {
   "cell_type": "markdown",
   "metadata": {},
   "source": [
    "# Dependencies"
   ]
  },
  {
   "cell_type": "code",
   "execution_count": 1,
   "metadata": {},
   "outputs": [],
   "source": [
    "import torch\n",
    "from torch.utils.data import Dataset, DataLoader\n",
    "from PIL import Image\n",
    "import pandas as pd\n",
    "import os\n",
    "import numpy as np\n",
    "import matplotlib.pyplot as plt"
   ]
  },
  {
   "cell_type": "markdown",
   "metadata": {},
   "source": [
    "# Custom Dataset"
   ]
  },
  {
   "cell_type": "code",
   "execution_count": 2,
   "metadata": {},
   "outputs": [],
   "source": [
    "class SimpleVeinDataset(Dataset):\n",
    "    def __init__(self, csv_file, image_dir, mask_dir):\n",
    "        \"\"\"\n",
    "        Args:\n",
    "            csv_file (str): Path to CSV with BatID and ImageID columns\n",
    "            image_dir (str): Path to image folder\n",
    "            mask_dir (str): Path to mask folder\n",
    "        \"\"\"\n",
    "        self.data = pd.read_csv(csv_file)\n",
    "        self.image_dir = image_dir\n",
    "        self.mask_dir = mask_dir\n",
    "\n",
    "    def __len__(self):\n",
    "        return len(self.data)\n",
    "\n",
    "    def __getitem__(self, idx):\n",
    "        # Get image ID\n",
    "        image_id = self.data.iloc[idx]['ImageID']\n",
    "        \n",
    "        # Load image and mask\n",
    "        img_path = os.path.join(self.image_dir, f\"{image_id}.png\")\n",
    "        mask_path = os.path.join(self.mask_dir, f\"{image_id}.jpg\")\n",
    "        \n",
    "        # Open and convert to grayscale\n",
    "        image = Image.open(img_path).convert('L')\n",
    "        mask = Image.open(mask_path).convert('L')\n",
    "        \n",
    "        # Convert to tensor and normalize\n",
    "        image = torch.from_numpy(np.array(image)).float() / 255.0\n",
    "        mask = torch.from_numpy(np.array(mask)).float() / 255.0\n",
    "        \n",
    "        # Add channel dimension\n",
    "        image = image.unsqueeze(0)\n",
    "        mask = mask.unsqueeze(0)\n",
    "        \n",
    "        return image, mask"
   ]
  },
  {
   "cell_type": "markdown",
   "metadata": {},
   "source": [
    "# Data Loading"
   ]
  },
  {
   "cell_type": "code",
   "execution_count": 3,
   "metadata": {},
   "outputs": [],
   "source": [
    "# Create dataset\n",
    "dataset = SimpleVeinDataset(\n",
    "    csv_file='../Dataset/dataset.csv',\n",
    "    image_dir='../Dataset/Images',\n",
    "    mask_dir='../Dataset/Masks'\n",
    ")\n",
    "\n",
    "# Create dataloader\n",
    "dataloader = DataLoader(\n",
    "    dataset,\n",
    "    batch_size=1, #change to 2 when i get to buildling training \n",
    "    shuffle=False  #also change this to true\n",
    ")"
   ]
  },
  {
   "cell_type": "markdown",
   "metadata": {},
   "source": [
    "# Validating Dataset"
   ]
  },
  {
   "cell_type": "code",
   "execution_count": null,
   "metadata": {},
   "outputs": [
    {
     "data": {
      "text/plain": [
       "\"\\ngroup_and_display_all_bat_images(\\n    csv_file='../Dataset/dataset.csv',\\n    image_dir='../Dataset/Images',\\n    mask_dir='../Dataset/Masks'\\n)\\n\""
      ]
     },
     "execution_count": 5,
     "metadata": {},
     "output_type": "execute_result"
    }
   ],
   "source": [
    "def group_and_display_all_bat_images(csv_file, image_dir, mask_dir):\n",
    "    \"\"\"\n",
    "    Group and display all images from all bats\n",
    "    \n",
    "    Args:\n",
    "        csv_file (str): Path to CSV with BatId and ImageID columns\n",
    "        image_dir (str): Path to image folder\n",
    "        mask_dir (str): Path to mask folder\n",
    "    \"\"\"\n",
    "    # Read the CSV\n",
    "    df = pd.read_csv(csv_file)\n",
    "    \n",
    "    # Group by BatId\n",
    "    grouped = df.groupby('BatID')\n",
    "    \n",
    "    # Create dataset for loading images\n",
    "    dataset = SimpleVeinDataset(csv_file, image_dir, mask_dir)\n",
    "    \n",
    "    # Get all bat IDs\n",
    "    all_bats = list(grouped.groups.keys())\n",
    "    \n",
    "    for bat_id in all_bats:\n",
    "        # Get all image IDs for this bat\n",
    "        bat_images = grouped.get_group(bat_id)\n",
    "        num_images = len(bat_images)\n",
    "        \n",
    "        # Create a figure with enough subplots for all images and masks\n",
    "        fig, axes = plt.subplots(num_images, 2, figsize=(10, 5*num_images))\n",
    "        plt.suptitle(f'Bat ID: {bat_id}', fontsize=16)\n",
    "        \n",
    "        # If there's only one image, wrap axes in list\n",
    "        if num_images == 1:\n",
    "            axes = axes.reshape(1, -1)\n",
    "        \n",
    "        # Load and display each image for this bat\n",
    "        for idx, (_, row) in enumerate(bat_images.iterrows()):\n",
    "            # Find index in dataset\n",
    "            dataset_idx = df[df['ImageID'] == row['ImageID']].index[0]\n",
    "            image, mask = dataset[dataset_idx]\n",
    "            \n",
    "            # Display image\n",
    "            axes[idx, 0].imshow(image.squeeze(), cmap='gray')\n",
    "            axes[idx, 0].set_title(f'Image {row[\"ImageID\"]}')\n",
    "            axes[idx, 0].axis('off')\n",
    "            \n",
    "            # Display mask\n",
    "            axes[idx, 1].imshow(mask.squeeze(), cmap='gray')\n",
    "            axes[idx, 1].set_title(f'Mask {row[\"ImageID\"]}')\n",
    "            axes[idx, 1].axis('off')\n",
    "        \n",
    "        plt.tight_layout()\n",
    "        plt.show()\n",
    "\n",
    "# Example usage:\n",
    "\"\"\"\n",
    "group_and_display_all_bat_images(\n",
    "    csv_file='your_data.csv',\n",
    "    image_dir='path/to/Images',\n",
    "    mask_dir='path/to/Masks'\n",
    ")\n",
    "\"\"\"\n",
    "\n",
    "def analyze_bat_distribution(csv_file):\n",
    "    \"\"\"\n",
    "    Analyze the distribution of images across bats\n",
    "    \n",
    "    Args:\n",
    "        csv_file (str): Path to CSV with BatId and ImageID columns\n",
    "    \"\"\"\n",
    "    df = pd.read_csv(csv_file)\n",
    "    grouped = df.groupby('BatID')\n",
    "    \n",
    "    # Get distribution statistics\n",
    "    image_counts = grouped.size()\n",
    "    \n",
    "    print(\"\\nBat Image Distribution:\")\n",
    "    print(f\"Total number of bats: {len(image_counts)}\")\n",
    "    print(f\"Total number of images: {len(df)}\")\n",
    "    print(f\"Average images per bat: {image_counts.mean():.2f}\")\n",
    "    print(f\"Min images per bat: {image_counts.min()}\")\n",
    "    print(f\"Max images per bat: {image_counts.max()}\")\n",
    "    \n",
    "    # Plot distribution\n",
    "    plt.figure(figsize=(10, 5))\n",
    "    plt.hist(image_counts, bins='auto')\n",
    "    plt.title('Distribution of Images per Bat')\n",
    "    plt.xlabel('Number of Images')\n",
    "    plt.ylabel('Number of Bats')\n",
    "    plt.show()\n",
    "    \n",
    "    # Display counts for each bat\n",
    "    print(\"\\nDetailed image counts per bat:\")\n",
    "    for bat_id, count in image_counts.items():\n",
    "        print(f\"Bat {bat_id}: {count} images\")\n",
    "\n",
    "\"\"\"\n",
    "**Uncomment this to view all the wing images for each bat!**\n",
    "group_and_display_all_bat_images(\n",
    "    csv_file='../Dataset/dataset.csv',\n",
    "    image_dir='../Dataset/Images',\n",
    "    mask_dir='../Dataset/Masks'\n",
    ")\n",
    "\"\"\""
   ]
  }
 ],
 "metadata": {
  "kernelspec": {
   "display_name": "base",
   "language": "python",
   "name": "python3"
  },
  "language_info": {
   "codemirror_mode": {
    "name": "ipython",
    "version": 3
   },
   "file_extension": ".py",
   "mimetype": "text/x-python",
   "name": "python",
   "nbconvert_exporter": "python",
   "pygments_lexer": "ipython3",
   "version": "3.11.5"
  }
 },
 "nbformat": 4,
 "nbformat_minor": 2
}
