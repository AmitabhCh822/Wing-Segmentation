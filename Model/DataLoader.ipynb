{
 "cells": [
  {
   "cell_type": "markdown",
   "metadata": {},
   "source": [
    "# Dependencies"
   ]
  },
  {
   "cell_type": "code",
   "execution_count": null,
   "metadata": {},
   "outputs": [],
   "source": [
    "import torch\n",
    "from torch.utils.data import Dataset, DataLoader\n",
    "from PIL import Image\n",
    "import pandas as pd\n",
    "import os\n",
    "import numpy as np\n",
    "import matplotlib.pyplot as plt"
   ]
  },
  {
   "cell_type": "markdown",
   "metadata": {},
   "source": [
    "# Custom Dataset"
   ]
  },
  {
   "cell_type": "code",
   "execution_count": null,
   "metadata": {},
   "outputs": [],
   "source": [
    "class SimpleVeinDataset(Dataset):\n",
    "    def __init__(self, csv_file, image_dir, mask_dir):\n",
    "        \"\"\"\n",
    "        Args:\n",
    "            csv_file (str): Path to CSV with BatId and ImageID columns\n",
    "            image_dir (str): Path to image folder\n",
    "            mask_dir (str): Path to mask folder\n",
    "        \"\"\"\n",
    "        self.data = pd.read_csv(csv_file)\n",
    "        self.image_dir = image_dir\n",
    "        self.mask_dir = mask_dir\n",
    "\n",
    "    def __len__(self):\n",
    "        return len(self.data)\n",
    "\n",
    "    def __getitem__(self, idx):\n",
    "        # Get image ID\n",
    "        image_id = self.data.iloc[idx]['ImageID']\n",
    "        \n",
    "        # Load image and mask\n",
    "        img_path = os.path.join(self.image_dir, f\"{image_id}.png\")\n",
    "        mask_path = os.path.join(self.mask_dir, f\"{image_id}.jpg\")\n",
    "        \n",
    "        # Open and convert to grayscale\n",
    "        image = Image.open(img_path).convert('L')\n",
    "        mask = Image.open(mask_path).convert('L')\n",
    "        \n",
    "        # Convert to tensor and normalize\n",
    "        image = torch.from_numpy(np.array(image)).float() / 255.0\n",
    "        mask = torch.from_numpy(np.array(mask)).float() / 255.0\n",
    "        \n",
    "        # Add channel dimension\n",
    "        image = image.unsqueeze(0)\n",
    "        mask = mask.unsqueeze(0)\n",
    "        \n",
    "        return image, mask"
   ]
  },
  {
   "cell_type": "markdown",
   "metadata": {},
   "source": [
    "# Data Loading"
   ]
  },
  {
   "cell_type": "code",
   "execution_count": null,
   "metadata": {},
   "outputs": [],
   "source": [
    "# Create dataset\n",
    "dataset = SimpleVeinDataset(\n",
    "    csv_file='../Dataset/dataset.csv',\n",
    "    image_dir='../Dataset/Images',\n",
    "    mask_dir='../Dataset/Masks'\n",
    ")\n",
    "\n",
    "# Create dataloader\n",
    "dataloader = DataLoader(\n",
    "    dataset,\n",
    "    batch_size=1, #change to 2 when i get to buildling training \n",
    "    shuffle=False  #also change this to true\n",
    ")"
   ]
  },
  {
   "cell_type": "code",
   "execution_count": null,
   "metadata": {},
   "outputs": [],
   "source": [
    "# Check if there are any image ids given in the csv that don't have a corresponding image or mask\n",
    "for i, (image, mask) in enumerate(dataloader):\n",
    "    if image.size(2) != 1024 or image.size(3) != 1024:\n",
    "        print(f\"Image {i} has shape {image.shape}\")\n",
    "    if mask.size(2) != 1024 or mask.size(3) != 1024:\n",
    "        print(f\"Mask {i} has shape {mask.shape}\")"
   ]
  },
  {
   "cell_type": "markdown",
   "metadata": {},
   "source": [
    "# Verifying Dataset"
   ]
  },
  {
   "cell_type": "code",
   "execution_count": null,
   "metadata": {},
   "outputs": [],
   "source": [
    "# Create dataloader with batch size 1 for easy visualization\n",
    "dataloader = DataLoader(dataset, batch_size=1, shuffle=False)\n",
    "\n",
    "# Create figure\n",
    "fig, axes = plt.subplots(5, 2, figsize=(10, 20))\n",
    "plt.tight_layout(pad=3.0)\n",
    "\n",
    "# Go through first 5 images\n",
    "for i, (image, mask) in enumerate(dataloader):\n",
    "    if i >= 5:  # Stop after 5 images\n",
    "        break\n",
    "        \n",
    "    # Remove batch dimension and convert to numpy\n",
    "    image = image.squeeze().numpy()\n",
    "    mask = mask.squeeze().numpy()\n",
    "    \n",
    "    # Plot image\n",
    "    axes[i, 0].imshow(image, cmap='gray')\n",
    "    axes[i, 0].set_title(f'Image {i+1}')\n",
    "    axes[i, 0].axis('off')\n",
    "    \n",
    "    # Plot mask\n",
    "    axes[i, 1].imshow(mask, cmap='gray')\n",
    "    axes[i, 1].set_title(f'Mask {i+1}')\n",
    "    axes[i, 1].axis('off')\n",
    "\n",
    "plt.show()"
   ]
  }
 ],
 "metadata": {
  "kernelspec": {
   "display_name": "base",
   "language": "python",
   "name": "python3"
  },
  "language_info": {
   "codemirror_mode": {
    "name": "ipython",
    "version": 3
   },
   "file_extension": ".py",
   "mimetype": "text/x-python",
   "name": "python",
   "nbconvert_exporter": "python",
   "pygments_lexer": "ipython3",
   "version": "3.11.5"
  }
 },
 "nbformat": 4,
 "nbformat_minor": 2
}
