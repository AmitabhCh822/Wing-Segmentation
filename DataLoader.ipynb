{
 "cells": [
  {
   "cell_type": "code",
   "execution_count": null,
   "metadata": {},
   "outputs": [],
   "source": [
    "import os\n",
    "import re\n",
    "\n",
    "def rename_photos(directory):\n",
    "    # Regular expression pattern to match 'M' followed by exactly 3 digits\n",
    "    pattern = r'M\\d{3}'\n",
    "    \n",
    "    # List all files in the directory\n",
    "    for filename in os.listdir(directory):\n",
    "        # Get the full path of the file\n",
    "        file_path = os.path.join(directory, filename)\n",
    "        \n",
    "        # Skip if it's not a file\n",
    "        if not os.path.isfile(file_path):\n",
    "            continue\n",
    "            \n",
    "        # Search for the pattern in the filename\n",
    "        match = re.search(pattern, filename)\n",
    "        if match:\n",
    "            # Get the matched pattern (M followed by 3 digits)\n",
    "            new_name = match.group(0)\n",
    "            \n",
    "            # Get the file extension\n",
    "            _, ext = os.path.splitext(filename)\n",
    "            \n",
    "            # Create the new filename with the original extension\n",
    "            new_filename = new_name + ext\n",
    "            new_file_path = os.path.join(directory, new_filename)\n",
    "            \n",
    "            # Rename the file if the new filename doesn't already exist\n",
    "            if not os.path.exists(new_file_path):\n",
    "                try:\n",
    "                    os.rename(file_path, new_file_path)\n",
    "                    print(f\"Renamed '{filename}' to '{new_filename}'\")\n",
    "                except OSError as e:\n",
    "                    print(f\"Error renaming '{filename}': {e}\")\n",
    "            else:\n",
    "                print(f\"Skipped '{filename}': '{new_filename}' already exists\")\n",
    "\n",
    "# Example usage\n",
    "if __name__ == \"__main__\":\n",
    "    # Replace with your directory path\n",
    "    photo_directory = \"path/to/your/photos\"\n",
    "    rename_photos(photo_directory)"
   ]
  }
 ],
 "metadata": {
  "language_info": {
   "name": "python"
  }
 },
 "nbformat": 4,
 "nbformat_minor": 2
}
